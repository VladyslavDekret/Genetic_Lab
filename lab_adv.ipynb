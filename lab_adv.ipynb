{
 "cells": [
  {
   "cell_type": "code",
   "execution_count": 21,
   "id": "5461e7f0-d868-4b42-a7d5-113e415e1ab5",
   "metadata": {
    "tags": []
   },
   "outputs": [],
   "source": [
    "import sys\n",
    "import string\n",
    "\n",
    "sys.path.extend(['D:/Korysne/naukma/Genetic_algorithm/Lab_2_v3', 'd'])"
   ]
  },
  {
   "cell_type": "code",
   "execution_count": 2,
   "id": "dcf3364d-8e0d-4a82-addc-71bc9ab8f24a",
   "metadata": {
    "tags": []
   },
   "outputs": [],
   "source": [
    "from coding import *\n",
    "import numpy as np\n",
    "import matplotlib.pyplot as plt\n",
    "from numpy import random\n",
    "from population_factory import PopulationFactory\n",
    "from population import Population\n",
    "from functions import *\n",
    "import random"
   ]
  },
  {
   "cell_type": "code",
   "execution_count": 3,
   "id": "026770e5-1bd9-47b5-ae8c-7a30582ff3c0",
   "metadata": {
    "tags": []
   },
   "outputs": [
    {
     "data": {
      "text/plain": [
       "[1, 1, 1, 1, 1, 1, 1, 1, 1, 1]"
      ]
     },
     "execution_count": 3,
     "metadata": {},
     "output_type": "execute_result"
    }
   ],
   "source": [
    "encode_bin(10.23, 0, 10.23, 10)"
   ]
  },
  {
   "cell_type": "code",
   "execution_count": 4,
   "id": "82d6a0c5-ec06-4ba6-ac88-601a4ebe3a41",
   "metadata": {
    "tags": []
   },
   "outputs": [
    {
     "data": {
      "text/plain": [
       "10.23"
      ]
     },
     "execution_count": 4,
     "metadata": {},
     "output_type": "execute_result"
    }
   ],
   "source": [
    "decode_bin([1, 1, 1, 1, 1, 1, 1, 1, 1, 1], 0, 10.23, 10)"
   ]
  },
  {
   "cell_type": "code",
   "execution_count": 5,
   "id": "215a7caf-25eb-4326-864a-8610938181ec",
   "metadata": {
    "tags": []
   },
   "outputs": [
    {
     "data": {
      "text/plain": [
       "[1, 0, 0, 0, 0, 0, 0, 0, 0, 0]"
      ]
     },
     "execution_count": 5,
     "metadata": {},
     "output_type": "execute_result"
    }
   ],
   "source": [
    "encode(10.23, 0, 10.23, 10)"
   ]
  },
  {
   "cell_type": "code",
   "execution_count": 6,
   "id": "1a292712-cdc3-4307-97d5-fad5f82a48d0",
   "metadata": {
    "tags": []
   },
   "outputs": [
    {
     "data": {
      "text/plain": [
       "10.23"
      ]
     },
     "execution_count": 6,
     "metadata": {},
     "output_type": "execute_result"
    }
   ],
   "source": [
    "decode([1, 0, 0, 0, 0, 0, 0, 0, 0, 0], 0, 10.23, 10)"
   ]
  },
  {
   "cell_type": "code",
   "execution_count": 7,
   "id": "9f19d5d5-05e8-436c-9b24-53a66abb1466",
   "metadata": {
    "tags": []
   },
   "outputs": [
    {
     "data": {
      "text/plain": [
       "'1000000000'"
      ]
     },
     "execution_count": 7,
     "metadata": {},
     "output_type": "execute_result"
    }
   ],
   "source": [
    "binary_to_gray([1, 1, 1, 1, 1, 1, 1, 1, 1, 1])"
   ]
  },
  {
   "cell_type": "code",
   "execution_count": 8,
   "id": "46a7975e-248d-4a28-a15a-99ce6743ea41",
   "metadata": {
    "tags": []
   },
   "outputs": [
    {
     "data": {
      "text/plain": [
       "10.23"
      ]
     },
     "execution_count": 8,
     "metadata": {},
     "output_type": "execute_result"
    }
   ],
   "source": [
    "decode([1, 0, 0, 0, 0, 0, 0, 0, 0, 0], 0, 10.23, 10)"
   ]
  },
  {
   "cell_type": "code",
   "execution_count": 11,
   "id": "5e4da259-5d37-4f88-bd0c-3c2693fdca26",
   "metadata": {
    "tags": []
   },
   "outputs": [],
   "source": [
    "fx = Fx2(0, 10.23, EncodeType.GRAY_CODE)"
   ]
  },
  {
   "cell_type": "code",
   "execution_count": 19,
   "id": "b16b62bf-3b81-4800-9240-a7ca6dd45de5",
   "metadata": {
    "tags": []
   },
   "outputs": [
    {
     "data": {
      "text/plain": [
       "101"
      ]
     },
     "execution_count": 19,
     "metadata": {},
     "output_type": "execute_result"
    }
   ],
   "source": [
    "len(fx.generate_optimal(100).code)"
   ]
  },
  {
   "cell_type": "code",
   "execution_count": 31,
   "id": "d06c4e8e-16a8-4b8d-88c7-521caacb38d3",
   "metadata": {
    "tags": []
   },
   "outputs": [
    {
     "data": {
      "text/plain": [
       "'__a'"
      ]
     },
     "execution_count": 31,
     "metadata": {},
     "output_type": "execute_result"
    }
   ],
   "source": [
    "f\"__{string.ascii_lowercase[0]}\""
   ]
  },
  {
   "cell_type": "code",
   "execution_count": 33,
   "id": "622a8ac7-0ccf-4ea4-af61-dbf69f96e3ce",
   "metadata": {
    "tags": []
   },
   "outputs": [
    {
     "data": {
      "text/plain": [
       "array([1, 2, 4, 5])"
      ]
     },
     "execution_count": 33,
     "metadata": {},
     "output_type": "execute_result"
    }
   ],
   "source": [
    "chromosome = [1,2,4,5]\n",
    "np.concatenate([chromosome[:2], chromosome[2:]])"
   ]
  },
  {
   "cell_type": "code",
   "execution_count": null,
   "id": "22b7f702-d65e-4ee9-a078-95ea5f0d2da8",
   "metadata": {},
   "outputs": [],
   "source": []
  }
 ],
 "metadata": {
  "kernelspec": {
   "display_name": "Python 3 (ipykernel)",
   "language": "python",
   "name": "python3"
  },
  "language_info": {
   "codemirror_mode": {
    "name": "ipython",
    "version": 3
   },
   "file_extension": ".py",
   "mimetype": "text/x-python",
   "name": "python",
   "nbconvert_exporter": "python",
   "pygments_lexer": "ipython3",
   "version": "3.10.9"
  }
 },
 "nbformat": 4,
 "nbformat_minor": 5
}
